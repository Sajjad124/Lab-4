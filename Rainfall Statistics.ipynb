{
 "cells": [
  {
   "cell_type": "markdown",
   "id": "081aa654",
   "metadata": {},
   "source": [
    "Design a program that lets the user enter the total rainfall for each of 12 months into a list.\n",
    "The program should calculate and display the total rainfall for the year, the average monthly rainfall, \n",
    "and the months with the highest and lowest amounts."
   ]
  },
  {
   "cell_type": "code",
   "execution_count": 2,
   "id": "a9c44dd4",
   "metadata": {},
   "outputs": [
    {
     "name": "stdout",
     "output_type": "stream",
     "text": [
      "Firstly empty months list with length of 12 :  [0, 0, 0, 0, 0, 0, 0, 0, 0, 0, 0, 0]\n",
      "['Jan', 'Feb', 'Mar', 'Apr', 'May', 'June', 'Jul', 'Aug', 'Sep', 'Oct', 'Nov', 'Dec']\n",
      "Enter Rainfall For month :  Jan   90\n",
      "Enter Rainfall For month :  Feb   76\n",
      "Enter Rainfall For month :  Mar   65\n",
      "Enter Rainfall For month :  Apr   54\n",
      "Enter Rainfall For month :  May   43\n",
      "Enter Rainfall For month :  June   32\n",
      "Enter Rainfall For month :  Jul   21\n",
      "Enter Rainfall For month :  Aug   5\n",
      "Enter Rainfall For month :  Sep   65\n",
      "Enter Rainfall For month :  Oct   76\n",
      "Enter Rainfall For month :  Nov   87\n",
      "Enter Rainfall For month :  Dec   76\n",
      "[90, 76, 65, 54, 43, 32, 21, 5, 65, 76, 87, 76]\n",
      "Total RainFall in one year   :  690\n",
      "Average Rainfall in one year :  57.5\n",
      "Lowest Rainfall in month  : ['Aug']  =  5 mm\n",
      "Highest Rainfall in month : ['Jan']  =  90 mm\n"
     ]
    }
   ],
   "source": [
    "months = [0] * 12\n",
    "print(\"Firstly empty months list with length of 12 : \",months)\n",
    "\n",
    "month_names = ['Jan' , 'Feb' , 'Mar' , 'Apr' , 'May' , 'June' , 'Jul' , 'Aug' , 'Sep' , 'Oct' , 'Nov' , 'Dec']\n",
    "print(month_names)\n",
    "\n",
    "for index in range(12) :\n",
    "    print(\"Enter Rainfall For month : \", month_names[index] , \" \", end = \" \"  )\n",
    "    months[index] = int(input())\n",
    "\n",
    "print(months)\n",
    "total = 0\n",
    "for num in months :\n",
    "    total+=num    \n",
    "print(\"Total RainFall in one year   : \" , total)\n",
    "    \n",
    "average = total / 12.0 \n",
    "print(\"Average Rainfall in one year : \" , average)\n",
    "\n",
    "unsort_copy = months[0:]\n",
    "# print(\"Unsorted List : \", unsort_copy)\n",
    "months.sort()\n",
    "# print(\"Sorted List \",months)\n",
    "\n",
    "lowest_rain  = months[0]\n",
    "highest_rain = months[-1]\n",
    "\n",
    "\n",
    "lowest_month = []\n",
    "highest_month= []\n",
    "\n",
    "for l in range(12):\n",
    "    if unsort_copy[l]==lowest_rain:\n",
    "        lowest_month.append(month_names[l])\n",
    "        print(\"Lowest Rainfall in month  :\",  lowest_month  , \" = \", lowest_rain, \"mm\")\n",
    "\n",
    "for h in range(12):\n",
    "    if unsort_copy[h]==highest_rain:\n",
    "        highest_month.append(month_names[h])\n",
    "        print(\"Highest Rainfall in month :\",  highest_month , \" = \", highest_rain , \"mm\")\n",
    "\n"
   ]
  },
  {
   "cell_type": "code",
   "execution_count": null,
   "id": "a9e2011f",
   "metadata": {},
   "outputs": [],
   "source": []
  }
 ],
 "metadata": {
  "kernelspec": {
   "display_name": "Python 3",
   "language": "python",
   "name": "python3"
  },
  "language_info": {
   "codemirror_mode": {
    "name": "ipython",
    "version": 3
   },
   "file_extension": ".py",
   "mimetype": "text/x-python",
   "name": "python",
   "nbconvert_exporter": "python",
   "pygments_lexer": "ipython3",
   "version": "3.8.8"
  }
 },
 "nbformat": 4,
 "nbformat_minor": 5
}
